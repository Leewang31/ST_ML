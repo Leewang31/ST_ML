{
 "cells": [
  {
   "cell_type": "markdown",
   "id": "5e1c80f8",
   "metadata": {},
   "source": [
    "# Logistic Regression"
   ]
  },
  {
   "cell_type": "markdown",
   "id": "d04c29da",
   "metadata": {},
   "source": [
    "### 공부 시간에 따른 자격증 시험 합격 가능성"
   ]
  },
  {
   "cell_type": "code",
   "execution_count": 2,
   "id": "de152787",
   "metadata": {},
   "outputs": [],
   "source": [
    "import numpy as np\n",
    "import matplotlib.pyplot as plt\n",
    "import pandas as pd "
   ]
  },
  {
   "cell_type": "code",
   "execution_count": 3,
   "id": "8ed4da18",
   "metadata": {},
   "outputs": [
    {
     "data": {
      "text/plain": [
       "(array([[ 0.5],\n",
       "        [ 1.2],\n",
       "        [ 1.8],\n",
       "        [ 2.4],\n",
       "        [ 2.6],\n",
       "        [ 3.2],\n",
       "        [ 3.9],\n",
       "        [ 4.4],\n",
       "        [ 4.5],\n",
       "        [ 5. ],\n",
       "        [ 5.3],\n",
       "        [ 5.8],\n",
       "        [ 6. ],\n",
       "        [ 6.1],\n",
       "        [ 6.2],\n",
       "        [ 6.9],\n",
       "        [ 7.2],\n",
       "        [ 8.4],\n",
       "        [ 8.6],\n",
       "        [10. ]]),\n",
       " array([0, 0, 0, 0, 0, 0, 0, 1, 0, 1, 1, 0, 1, 1, 1, 1, 1, 1, 1, 1],\n",
       "       dtype=int64))"
      ]
     },
     "execution_count": 3,
     "metadata": {},
     "output_type": "execute_result"
    }
   ],
   "source": [
    "dataset = pd.read_csv('LogisticRegressionData.csv')\n",
    "X = dataset.iloc[:,:-1].values\n",
    "y = dataset.iloc[:,-1].values\n",
    "X,y"
   ]
  },
  {
   "cell_type": "markdown",
   "id": "dcda1089",
   "metadata": {},
   "source": [
    "## 데이터 분리"
   ]
  },
  {
   "cell_type": "code",
   "execution_count": 5,
   "id": "e0805c36",
   "metadata": {},
   "outputs": [],
   "source": [
    "from sklearn.model_selection import train_test_split\n",
    "X_train,X_test,y_train,y_test = train_test_split(X,y,test_size=0.2,random_state=0)"
   ]
  },
  {
   "cell_type": "markdown",
   "id": "faf0a175",
   "metadata": {},
   "source": [
    "### 학습(로지스틱 회귀 모델)"
   ]
  },
  {
   "cell_type": "code",
   "execution_count": 6,
   "id": "d468a849",
   "metadata": {},
   "outputs": [
    {
     "data": {
      "text/html": [
       "<style>#sk-container-id-1 {color: black;background-color: white;}#sk-container-id-1 pre{padding: 0;}#sk-container-id-1 div.sk-toggleable {background-color: white;}#sk-container-id-1 label.sk-toggleable__label {cursor: pointer;display: block;width: 100%;margin-bottom: 0;padding: 0.3em;box-sizing: border-box;text-align: center;}#sk-container-id-1 label.sk-toggleable__label-arrow:before {content: \"▸\";float: left;margin-right: 0.25em;color: #696969;}#sk-container-id-1 label.sk-toggleable__label-arrow:hover:before {color: black;}#sk-container-id-1 div.sk-estimator:hover label.sk-toggleable__label-arrow:before {color: black;}#sk-container-id-1 div.sk-toggleable__content {max-height: 0;max-width: 0;overflow: hidden;text-align: left;background-color: #f0f8ff;}#sk-container-id-1 div.sk-toggleable__content pre {margin: 0.2em;color: black;border-radius: 0.25em;background-color: #f0f8ff;}#sk-container-id-1 input.sk-toggleable__control:checked~div.sk-toggleable__content {max-height: 200px;max-width: 100%;overflow: auto;}#sk-container-id-1 input.sk-toggleable__control:checked~label.sk-toggleable__label-arrow:before {content: \"▾\";}#sk-container-id-1 div.sk-estimator input.sk-toggleable__control:checked~label.sk-toggleable__label {background-color: #d4ebff;}#sk-container-id-1 div.sk-label input.sk-toggleable__control:checked~label.sk-toggleable__label {background-color: #d4ebff;}#sk-container-id-1 input.sk-hidden--visually {border: 0;clip: rect(1px 1px 1px 1px);clip: rect(1px, 1px, 1px, 1px);height: 1px;margin: -1px;overflow: hidden;padding: 0;position: absolute;width: 1px;}#sk-container-id-1 div.sk-estimator {font-family: monospace;background-color: #f0f8ff;border: 1px dotted black;border-radius: 0.25em;box-sizing: border-box;margin-bottom: 0.5em;}#sk-container-id-1 div.sk-estimator:hover {background-color: #d4ebff;}#sk-container-id-1 div.sk-parallel-item::after {content: \"\";width: 100%;border-bottom: 1px solid gray;flex-grow: 1;}#sk-container-id-1 div.sk-label:hover label.sk-toggleable__label {background-color: #d4ebff;}#sk-container-id-1 div.sk-serial::before {content: \"\";position: absolute;border-left: 1px solid gray;box-sizing: border-box;top: 0;bottom: 0;left: 50%;z-index: 0;}#sk-container-id-1 div.sk-serial {display: flex;flex-direction: column;align-items: center;background-color: white;padding-right: 0.2em;padding-left: 0.2em;position: relative;}#sk-container-id-1 div.sk-item {position: relative;z-index: 1;}#sk-container-id-1 div.sk-parallel {display: flex;align-items: stretch;justify-content: center;background-color: white;position: relative;}#sk-container-id-1 div.sk-item::before, #sk-container-id-1 div.sk-parallel-item::before {content: \"\";position: absolute;border-left: 1px solid gray;box-sizing: border-box;top: 0;bottom: 0;left: 50%;z-index: -1;}#sk-container-id-1 div.sk-parallel-item {display: flex;flex-direction: column;z-index: 1;position: relative;background-color: white;}#sk-container-id-1 div.sk-parallel-item:first-child::after {align-self: flex-end;width: 50%;}#sk-container-id-1 div.sk-parallel-item:last-child::after {align-self: flex-start;width: 50%;}#sk-container-id-1 div.sk-parallel-item:only-child::after {width: 0;}#sk-container-id-1 div.sk-dashed-wrapped {border: 1px dashed gray;margin: 0 0.4em 0.5em 0.4em;box-sizing: border-box;padding-bottom: 0.4em;background-color: white;}#sk-container-id-1 div.sk-label label {font-family: monospace;font-weight: bold;display: inline-block;line-height: 1.2em;}#sk-container-id-1 div.sk-label-container {text-align: center;}#sk-container-id-1 div.sk-container {/* jupyter's `normalize.less` sets `[hidden] { display: none; }` but bootstrap.min.css set `[hidden] { display: none !important; }` so we also need the `!important` here to be able to override the default hidden behavior on the sphinx rendered scikit-learn.org. See: https://github.com/scikit-learn/scikit-learn/issues/21755 */display: inline-block !important;position: relative;}#sk-container-id-1 div.sk-text-repr-fallback {display: none;}</style><div id=\"sk-container-id-1\" class=\"sk-top-container\"><div class=\"sk-text-repr-fallback\"><pre>LogisticRegression()</pre><b>In a Jupyter environment, please rerun this cell to show the HTML representation or trust the notebook. <br />On GitHub, the HTML representation is unable to render, please try loading this page with nbviewer.org.</b></div><div class=\"sk-container\" hidden><div class=\"sk-item\"><div class=\"sk-estimator sk-toggleable\"><input class=\"sk-toggleable__control sk-hidden--visually\" id=\"sk-estimator-id-1\" type=\"checkbox\" checked><label for=\"sk-estimator-id-1\" class=\"sk-toggleable__label sk-toggleable__label-arrow\">LogisticRegression</label><div class=\"sk-toggleable__content\"><pre>LogisticRegression()</pre></div></div></div></div></div>"
      ],
      "text/plain": [
       "LogisticRegression()"
      ]
     },
     "execution_count": 6,
     "metadata": {},
     "output_type": "execute_result"
    }
   ],
   "source": [
    "from sklearn.linear_model import LogisticRegression\n",
    "classifier = LogisticRegression()\n",
    "classifier.fit(X_train,y_train)"
   ]
  },
  {
   "cell_type": "code",
   "execution_count": 7,
   "id": "f5322d28",
   "metadata": {},
   "outputs": [
    {
     "data": {
      "text/plain": [
       "0.875"
      ]
     },
     "execution_count": 7,
     "metadata": {},
     "output_type": "execute_result"
    }
   ],
   "source": [
    "classifier.score(X_train,y_train)"
   ]
  },
  {
   "cell_type": "markdown",
   "id": "916fcc2c",
   "metadata": {},
   "source": [
    "### 6시간 공부했을 때 예측?"
   ]
  },
  {
   "cell_type": "code",
   "execution_count": 9,
   "id": "905b6e84",
   "metadata": {
    "scrolled": true
   },
   "outputs": [
    {
     "data": {
      "text/plain": [
       "array([1], dtype=int64)"
      ]
     },
     "execution_count": 9,
     "metadata": {},
     "output_type": "execute_result"
    }
   ],
   "source": [
    "classifier.predict([[6]])\n",
    "# 결과 1은 합격 예측"
   ]
  },
  {
   "cell_type": "code",
   "execution_count": 11,
   "id": "aebf8253",
   "metadata": {},
   "outputs": [
    {
     "data": {
      "text/plain": [
       "array([[0.14150735, 0.85849265]])"
      ]
     },
     "execution_count": 11,
     "metadata": {},
     "output_type": "execute_result"
    }
   ],
   "source": [
    "classifier.predict_proba([[6]])\n",
    "# 불합격 확률 14프로, 합격확률 0.8"
   ]
  },
  {
   "cell_type": "markdown",
   "id": "4aeeb201",
   "metadata": {},
   "source": [
    "### 4시간 공부했을 때 예측?"
   ]
  },
  {
   "cell_type": "code",
   "execution_count": 10,
   "id": "4a27fa50",
   "metadata": {},
   "outputs": [
    {
     "data": {
      "text/plain": [
       "array([0], dtype=int64)"
      ]
     },
     "execution_count": 10,
     "metadata": {},
     "output_type": "execute_result"
    }
   ],
   "source": [
    "classifier.predict([[4]])\n",
    "# 결과 0은 불합격 예측"
   ]
  },
  {
   "cell_type": "code",
   "execution_count": 12,
   "id": "a3ae0ac2",
   "metadata": {},
   "outputs": [
    {
     "data": {
      "text/plain": [
       "array([[0.6249966, 0.3750034]])"
      ]
     },
     "execution_count": 12,
     "metadata": {},
     "output_type": "execute_result"
    }
   ],
   "source": [
    "classifier.predict_proba([[4]])\n",
    "# 불합격 확률 62프로 합격확률 37프로"
   ]
  },
  {
   "cell_type": "markdown",
   "id": "cd91eab0",
   "metadata": {},
   "source": [
    "### 분류 결과 예측 (테스트)"
   ]
  },
  {
   "cell_type": "code",
   "execution_count": 13,
   "id": "77a4ad48",
   "metadata": {},
   "outputs": [
    {
     "data": {
      "text/plain": [
       "(array([1, 0, 1, 1], dtype=int64), array([1, 0, 1, 0], dtype=int64))"
      ]
     },
     "execution_count": 13,
     "metadata": {},
     "output_type": "execute_result"
    }
   ],
   "source": [
    "y_pred = classifier.predict(X_test)\n",
    "y_pred, y_test"
   ]
  },
  {
   "cell_type": "code",
   "execution_count": 14,
   "id": "c13affcd",
   "metadata": {},
   "outputs": [
    {
     "data": {
      "text/plain": [
       "0.75"
      ]
     },
     "execution_count": 14,
     "metadata": {},
     "output_type": "execute_result"
    }
   ],
   "source": [
    "classifier.score(X_test,y_test)"
   ]
  },
  {
   "cell_type": "markdown",
   "id": "e5182972",
   "metadata": {},
   "source": [
    "   ### 데이터 시각화 (훈련세트)"
   ]
  },
  {
   "cell_type": "code",
   "execution_count": 37,
   "id": "b59d82cd",
   "metadata": {
    "scrolled": true
   },
   "outputs": [
    {
     "data": {
      "text/plain": [
       "array([0.5, 0.6, 0.7, 0.8, 0.9, 1. , 1.1, 1.2, 1.3, 1.4, 1.5, 1.6, 1.7,\n",
       "       1.8, 1.9, 2. , 2.1, 2.2, 2.3, 2.4, 2.5, 2.6, 2.7, 2.8, 2.9, 3. ,\n",
       "       3.1, 3.2, 3.3, 3.4, 3.5, 3.6, 3.7, 3.8, 3.9, 4. , 4.1, 4.2, 4.3,\n",
       "       4.4, 4.5, 4.6, 4.7, 4.8, 4.9, 5. , 5.1, 5.2, 5.3, 5.4, 5.5, 5.6,\n",
       "       5.7, 5.8, 5.9, 6. , 6.1, 6.2, 6.3, 6.4, 6.5, 6.6, 6.7, 6.8, 6.9,\n",
       "       7. , 7.1, 7.2, 7.3, 7.4, 7.5, 7.6, 7.7, 7.8, 7.9, 8. , 8.1, 8.2,\n",
       "       8.3, 8.4, 8.5, 8.6, 8.7, 8.8, 8.9, 9. , 9.1, 9.2, 9.3, 9.4, 9.5,\n",
       "       9.6, 9.7, 9.8, 9.9])"
      ]
     },
     "execution_count": 37,
     "metadata": {},
     "output_type": "execute_result"
    }
   ],
   "source": [
    "X_range = np.arange(min(X),max(X),0.1)\n",
    "X_range"
   ]
  },
  {
   "cell_type": "code",
   "execution_count": 40,
   "id": "3818c437",
   "metadata": {},
   "outputs": [
    {
     "data": {
      "text/plain": [
       "(95,)"
      ]
     },
     "execution_count": 40,
     "metadata": {},
     "output_type": "execute_result"
    }
   ],
   "source": [
    "p = 1 / (1 + np.exp(-(classifier.coef_ * X_range + classifier.intercept_)))\n",
    "p = p.reshape(-1) # 1차원 배열 \n",
    "p.shape"
   ]
  },
  {
   "cell_type": "code",
   "execution_count": 43,
   "id": "2870d740",
   "metadata": {},
   "outputs": [
    {
     "data": {
      "image/png": "[encoded data removed]",
      "text/plain": [
       "<Figure size 640x480 with 1 Axes>"
      ]
     },
     "metadata": {},
     "output_type": "display_data"
    }
   ],
   "source": [
    "plt.scatter(X_train,y_train,color='blue') #산정도\n",
    "plt.plot(X_range,p,color='green') # 선 그래프\n",
    "plt.plot(X_range,np.full(len(X_range),0.5),color='gray') # 선 그래프\n",
    "plt.title('Probability by hours') # 제목\n",
    "plt.xlabel('hour') # X축제목\n",
    "plt.ylabel('P') # Y축제목\n",
    "plt.show()"
   ]
  },
  {
   "cell_type": "markdown",
   "id": "dd930a90",
   "metadata": {},
   "source": [
    "### 데이터 시각화 (테스트세트)"
   ]
  },
  {
   "cell_type": "code",
   "execution_count": 44,
   "id": "fc3b3c93",
   "metadata": {},
   "outputs": [
    {
     "data": {
      "image/png": "[encoded data removed]",
      "text/plain": [
       "<Figure size 640x480 with 1 Axes>"
      ]
     },
     "metadata": {},
     "output_type": "display_data"
    }
   ],
   "source": [
    "plt.scatter(X_test,y_test,color='blue') #산정도\n",
    "plt.plot(X_range,p,color='green') # 선 그래프\n",
    "plt.plot(X_range,np.full(len(X_range),0.5),color='gray') # 선 그래프\n",
    "plt.title('Probability by hours(test)') # 제목\n",
    "plt.xlabel('hour') # X축제목\n",
    "plt.ylabel('P') # Y축제목\n",
    "plt.show()"
   ]
  },
  {
   "cell_type": "markdown",
   "id": "2a4afba3",
   "metadata": {},
   "source": [
    "### 혼동 행렬 (Confursion Matrix)"
   ]
  },
  {
   "cell_type": "code",
   "execution_count": 49,
   "id": "ca835a17",
   "metadata": {},
   "outputs": [
    {
     "data": {
      "text/plain": [
       "array([[1, 1],\n",
       "       [0, 2]], dtype=int64)"
      ]
     },
     "execution_count": 49,
     "metadata": {},
     "output_type": "execute_result"
    }
   ],
   "source": [
    "from sklearn.metrics import confusion_matrix\n",
    "cm = confusion_matrix(y_test,y_pred)\n",
    "cm\n",
    "\n",
    "# TRUE NAGATIVE (TN)          FALSE POSITIVE (FP)\n",
    "# 불합격을 예측->불합격 실제  합격을 예측->불합격 실제\n",
    "# FALSE NAGATIVE (FN)         TRUE POSITIVE (TP)\n",
    "# 불합격을 예측->합격 실제    합격을 예측->합격 실제"
   ]
  }
 ],
 "metadata": {
  "kernelspec": {
   "display_name": "Python 3 (ipykernel)",
   "language": "python",
   "name": "python3"
  },
  "language_info": {
   "codemirror_mode": {
    "name": "ipython",
    "version": 3
   },
   "file_extension": ".py",
   "mimetype": "text/x-python",
   "name": "python",
   "nbconvert_exporter": "python",
   "pygments_lexer": "ipython3",
   "version": "3.10.9"
  }
 },
 "nbformat": 4,
 "nbformat_minor": 5
}
